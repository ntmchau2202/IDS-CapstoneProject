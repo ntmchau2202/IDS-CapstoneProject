{
 "cells": [
  {
   "cell_type": "code",
   "execution_count": 70,
   "metadata": {
    "collapsed": true
   },
   "outputs": [],
   "source": [
    "import numpy as np\n",
    "import pandas as pd\n",
    "from statistics import variance\n",
    "df = pd.read_csv (r'raw_restaurant_categorized_cleaned.csv', usecols=range(2,24))"
   ]
  },
  {
   "cell_type": "code",
   "execution_count": 71,
   "outputs": [
    {
     "name": "stdout",
     "output_type": "stream",
     "text": [
      "                                                   name  rating  \\\n",
      "0                       kim long garden - đường đê vàng     7.8   \n",
      "1                             xôi cát lâm - đường thành     6.8   \n",
      "2                       chả cá thăng long - đường thành     7.4   \n",
      "3                        chả cá lang liêu - đường thành     7.8   \n",
      "4                         bún chả đắc kim - đường thành     6.7   \n",
      "...                                                 ...     ...   \n",
      "3967         cô tám - cơm rang & cơm tấm - 118 hồng mai     7.1   \n",
      "3968  vela2+ - nhà hàng lẩu nướng - 112e3 lê thanh nghị     8.0   \n",
      "3969       bánh tráng nướng & chè hạt đác - 111 đội cấn     6.8   \n",
      "3970               bánh mì dân tổ - 101 d2 đăng văn ngữ     9.0   \n",
      "3971                     dzo quán - 1/84 trần thái tông     6.6   \n",
      "\n",
      "               location       category  startrange  endrange   price  \\\n",
      "0        quận long biên       nhà hàng      200000    300000  medium   \n",
      "1        quận hoàn kiếm       nhà hàng       20000     50000   cheap   \n",
      "2        quận hoàn kiếm       nhà hàng       30000     66000   cheap   \n",
      "3        quận hoàn kiếm       nhà hàng      150000    250000  medium   \n",
      "4        quận hoàn kiếm       nhà hàng       20000     44000   cheap   \n",
      "...                 ...            ...         ...       ...     ...   \n",
      "3967  quận hai bà trưng       nhà hàng       10000     59000   cheap   \n",
      "3968  quận hai bà trưng       nhà hàng       35000    155000  medium   \n",
      "3969       quận ba đình  ăn vặt vỉa hè       15000     30000   cheap   \n",
      "3970       quận đống đa       nhà hàng       10000     25000   cheap   \n",
      "3971      quận cầu giấy       nhà hàng      120000    150000  medium   \n",
      "\n",
      "      pricerank ăn vặt, ăn vặt vỉa hè đồ ăn sáng, đồ ăn sáng vỉa hè  ...  \\\n",
      "0             2                   NaN                           NaN  ...   \n",
      "1             1                   NaN                             x  ...   \n",
      "2             1                   NaN                           NaN  ...   \n",
      "3             2                   NaN                           NaN  ...   \n",
      "4             1                   NaN                           NaN  ...   \n",
      "...         ...                   ...                           ...  ...   \n",
      "3967          1                   NaN                             x  ...   \n",
      "3968          2                   NaN                           NaN  ...   \n",
      "3969          1                     x                           NaN  ...   \n",
      "3970          1                   NaN                             x  ...   \n",
      "3971          2                   NaN                           NaN  ...   \n",
      "\n",
      "     đồ ăn nhanh cơm, phở đồ ăn hàn quốc, nhà hàng hàn quốc  \\\n",
      "0            NaN      NaN                               NaN   \n",
      "1            NaN      NaN                               NaN   \n",
      "2            NaN      NaN                               NaN   \n",
      "3            NaN      NaN                               NaN   \n",
      "4            NaN        x                               NaN   \n",
      "...          ...      ...                               ...   \n",
      "3967         NaN        x                               NaN   \n",
      "3968         NaN      NaN                               NaN   \n",
      "3969         NaN      NaN                               NaN   \n",
      "3970         NaN      NaN                               NaN   \n",
      "3971         NaN      NaN                               NaN   \n",
      "\n",
      "     đồ ăn nhật bản, nhà hàng nhật bản nhà hàng pizza nhà hàng chay trà sữa  \\\n",
      "0                                  NaN        x   NaN           NaN     NaN   \n",
      "1                                  NaN        x   NaN           NaN     NaN   \n",
      "2                                  NaN        x   NaN           NaN     NaN   \n",
      "3                                  NaN        x   NaN           NaN     NaN   \n",
      "4                                  NaN      NaN   NaN           NaN     NaN   \n",
      "...                                ...      ...   ...           ...     ...   \n",
      "3967                               NaN        x   NaN           NaN     NaN   \n",
      "3968                               NaN        x   NaN           NaN     NaN   \n",
      "3969                               NaN      NaN   NaN           NaN     NaN   \n",
      "3970                               NaN      NaN   NaN           NaN     NaN   \n",
      "3971                               NaN      NaN   NaN           NaN     NaN   \n",
      "\n",
      "     cafe bánh ngọt, bánh sinh nhật  \n",
      "0     NaN                       NaN  \n",
      "1     NaN                       NaN  \n",
      "2     NaN                       NaN  \n",
      "3     NaN                       NaN  \n",
      "4     NaN                       NaN  \n",
      "...   ...                       ...  \n",
      "3967  NaN                       NaN  \n",
      "3968  NaN                       NaN  \n",
      "3969    x                       NaN  \n",
      "3970    x                       NaN  \n",
      "3971  NaN                       NaN  \n",
      "\n",
      "[3972 rows x 22 columns]\n"
     ]
    }
   ],
   "source": [
    "print (df)"
   ],
   "metadata": {
    "collapsed": false,
    "pycharm": {
     "name": "#%%\n"
    }
   }
  },
  {
   "cell_type": "code",
   "execution_count": 72,
   "outputs": [
    {
     "data": {
      "text/plain": "array(['quận long biên', 'quận hoàn kiếm', 'quận đống đa',\n       'quận cầu giấy', 'quận ba đình', 'quận bắc từ liêm',\n       'quận nam từ liêm', 'quận tây hồ', 'quận hoàng mai',\n       'quận thanh xuân', 'quận hai bà trưng', 'quận hà đông'],\n      dtype=object)"
     },
     "execution_count": 72,
     "metadata": {},
     "output_type": "execute_result"
    }
   ],
   "source": [
    "df[\"location\"].unique()"
   ],
   "metadata": {
    "collapsed": false,
    "pycharm": {
     "name": "#%%\n"
    }
   }
  },
  {
   "cell_type": "code",
   "execution_count": 73,
   "outputs": [],
   "source": [
    "group = df.groupby('location')\n",
    "sr2 = group.apply(lambda x: x['rating'].unique())"
   ],
   "metadata": {
    "collapsed": false,
    "pycharm": {
     "name": "#%%\n"
    }
   }
  },
  {
   "cell_type": "code",
   "execution_count": 74,
   "outputs": [
    {
     "name": "stdout",
     "output_type": "stream",
     "text": [
      "        location                                             rating\n",
      "0        ba đình  [8.0, 7.6, 7.2, 6.0, 5.9, 7.4, 6.6, 7.1, 9.3, ...\n",
      "1    bắc từ liêm  [7.1, 7.0, 9.8, 5.2, 8.9, 5.7, 9.9, 7.2, 8.0, ...\n",
      "2       cầu giấy  [8.2, 6.5, 6.3, 7.0, 6.8, 7.6, 7.4, 8.0, 7.1, ...\n",
      "3   hai bà trưng  [6.8, 8.0, 7.6, 7.4, 7.5, 6.9, 6.0, 7.7, 7.1, ...\n",
      "4      hoàn kiếm  [6.8, 7.4, 7.8, 6.7, 7.0, 7.2, 7.5, 6.1, 7.9, ...\n",
      "5      hoàng mai  [6.8, 7.1, 4.3, 9.9, 6.6, 7.3, 7.2, 8.0, 7.7, ...\n",
      "6        hà đông  [7.1, 6.9, 7.6, 8.1, 6.0, 7.5, 5.8, 9.8, 8.0, ...\n",
      "7      long biên  [7.8, 7.1, 8.0, 8.4, 7.0, 7.4, 8.6, 4.7, 9.7, ...\n",
      "8    nam từ liêm  [8.0, 7.7, 1.8, 7.2, 9.6, 7.5, 8.3, 6.9, 9.3, ...\n",
      "9     thanh xuân  [8.1, 4.1, 6.8, 7.7, 6.6, 7.6, 7.1, 7.2, 6.3, ...\n",
      "10        tây hồ  [7.4, 7.1, 7.7, 7.8, 9.0, 7.3, 4.6, 7.0, 7.2, ...\n",
      "11       đống đa  [8.0, 7.1, 7.5, 7.0, 1.0, 6.8, 6.9, 6.6, 7.6, ...\n"
     ]
    }
   ],
   "source": [
    "location_list=[]\n",
    "rating_list=[]\n",
    "for index, val in sr2.iteritems():\n",
    "    location_list.append(index.replace(\"quận\",\"\").strip())\n",
    "    rating_list.append(val)\n",
    "\n",
    "dfrating = pd.DataFrame({'location':location_list, 'rating':rating_list})\n",
    "print(dfrating)\n",
    "# print(sr2)\n",
    "# print(sr2[\"location\"])\n",
    "# for s in sr2.name:\n",
    "#     print(s)"
   ],
   "metadata": {
    "collapsed": false,
    "pycharm": {
     "name": "#%%\n"
    }
   }
  },
  {
   "cell_type": "code",
   "execution_count": 75,
   "outputs": [
    {
     "name": "stdout",
     "output_type": "stream",
     "text": [
      "        location                                             rating  \\\n",
      "0        ba đình  [8.0, 7.6, 7.2, 6.0, 5.9, 7.4, 6.6, 7.1, 9.3, ...   \n",
      "1    bắc từ liêm  [7.1, 7.0, 9.8, 5.2, 8.9, 5.7, 9.9, 7.2, 8.0, ...   \n",
      "2       cầu giấy  [8.2, 6.5, 6.3, 7.0, 6.8, 7.6, 7.4, 8.0, 7.1, ...   \n",
      "3   hai bà trưng  [6.8, 8.0, 7.6, 7.4, 7.5, 6.9, 6.0, 7.7, 7.1, ...   \n",
      "4      hoàn kiếm  [6.8, 7.4, 7.8, 6.7, 7.0, 7.2, 7.5, 6.1, 7.9, ...   \n",
      "5      hoàng mai  [6.8, 7.1, 4.3, 9.9, 6.6, 7.3, 7.2, 8.0, 7.7, ...   \n",
      "6        hà đông  [7.1, 6.9, 7.6, 8.1, 6.0, 7.5, 5.8, 9.8, 8.0, ...   \n",
      "7      long biên  [7.8, 7.1, 8.0, 8.4, 7.0, 7.4, 8.6, 4.7, 9.7, ...   \n",
      "8    nam từ liêm  [8.0, 7.7, 1.8, 7.2, 9.6, 7.5, 8.3, 6.9, 9.3, ...   \n",
      "9     thanh xuân  [8.1, 4.1, 6.8, 7.7, 6.6, 7.6, 7.1, 7.2, 6.3, ...   \n",
      "10        tây hồ  [7.4, 7.1, 7.7, 7.8, 9.0, 7.3, 4.6, 7.0, 7.2, ...   \n",
      "11       đống đa  [8.0, 7.1, 7.5, 7.0, 1.0, 6.8, 6.9, 6.6, 7.6, ...   \n",
      "\n",
      "    rating variance  \n",
      "0          3.346321  \n",
      "1          1.488745  \n",
      "2          4.257243  \n",
      "3          4.761538  \n",
      "4          2.899694  \n",
      "5          3.517147  \n",
      "6          3.186131  \n",
      "7          2.994127  \n",
      "8          4.007382  \n",
      "9          3.252319  \n",
      "10         1.462576  \n",
      "11         4.226536  \n"
     ]
    }
   ],
   "source": [
    "dfrating['rating variance']=dfrating[\"rating\"].map(variance)\n",
    "\n",
    "print(dfrating)"
   ],
   "metadata": {
    "collapsed": false,
    "pycharm": {
     "name": "#%%\n"
    }
   }
  },
  {
   "cell_type": "code",
   "execution_count": 76,
   "outputs": [
    {
     "data": {
      "text/plain": "<Figure size 1440x720 with 1 Axes>",
      "image/png": "[encoded data removed]"
     },
     "metadata": {
      "needs_background": "light"
     },
     "output_type": "display_data"
    }
   ],
   "source": [
    "ax = dfrating.sort_values(by=\"rating variance\",ascending=True).plot.bar(x='location', y='rating variance', rot=0,figsize=(20, 10))\n",
    "ax.figure.savefig(\"rating_variance.png\")"
   ],
   "metadata": {
    "collapsed": false,
    "pycharm": {
     "name": "#%%\n"
    }
   }
  },
  {
   "cell_type": "code",
   "execution_count": 77,
   "outputs": [
    {
     "name": "stdout",
     "output_type": "stream",
     "text": [
      "                                                   name  rating  \\\n",
      "0                       kim long garden - đường đê vàng     7.8   \n",
      "1                             xôi cát lâm - đường thành     6.8   \n",
      "2                       chả cá thăng long - đường thành     7.4   \n",
      "3                        chả cá lang liêu - đường thành     7.8   \n",
      "4                         bún chả đắc kim - đường thành     6.7   \n",
      "...                                                 ...     ...   \n",
      "3967         cô tám - cơm rang & cơm tấm - 118 hồng mai     7.1   \n",
      "3968  vela2+ - nhà hàng lẩu nướng - 112e3 lê thanh nghị     8.0   \n",
      "3969       bánh tráng nướng & chè hạt đác - 111 đội cấn     6.8   \n",
      "3970               bánh mì dân tổ - 101 d2 đăng văn ngữ     9.0   \n",
      "3971                     dzo quán - 1/84 trần thái tông     6.6   \n",
      "\n",
      "               location       category  startrange  endrange   price  \\\n",
      "0        quận long biên       nhà hàng      200000    300000  medium   \n",
      "1        quận hoàn kiếm       nhà hàng       20000     50000   cheap   \n",
      "2        quận hoàn kiếm       nhà hàng       30000     66000   cheap   \n",
      "3        quận hoàn kiếm       nhà hàng      150000    250000  medium   \n",
      "4        quận hoàn kiếm       nhà hàng       20000     44000   cheap   \n",
      "...                 ...            ...         ...       ...     ...   \n",
      "3967  quận hai bà trưng       nhà hàng       10000     59000   cheap   \n",
      "3968  quận hai bà trưng       nhà hàng       35000    155000  medium   \n",
      "3969       quận ba đình  ăn vặt vỉa hè       15000     30000   cheap   \n",
      "3970       quận đống đa       nhà hàng       10000     25000   cheap   \n",
      "3971      quận cầu giấy       nhà hàng      120000    150000  medium   \n",
      "\n",
      "      pricerank ăn vặt, ăn vặt vỉa hè đồ ăn sáng, đồ ăn sáng vỉa hè  ...  \\\n",
      "0             2                   NaN                           NaN  ...   \n",
      "1             1                   NaN                             x  ...   \n",
      "2             1                   NaN                           NaN  ...   \n",
      "3             2                   NaN                           NaN  ...   \n",
      "4             1                   NaN                           NaN  ...   \n",
      "...         ...                   ...                           ...  ...   \n",
      "3967          1                   NaN                             x  ...   \n",
      "3968          2                   NaN                           NaN  ...   \n",
      "3969          1                     x                           NaN  ...   \n",
      "3970          1                   NaN                             x  ...   \n",
      "3971          2                   NaN                           NaN  ...   \n",
      "\n",
      "     cơm, phở đồ ăn hàn quốc, nhà hàng hàn quốc  \\\n",
      "0         NaN                               NaN   \n",
      "1         NaN                               NaN   \n",
      "2         NaN                               NaN   \n",
      "3         NaN                               NaN   \n",
      "4           x                               NaN   \n",
      "...       ...                               ...   \n",
      "3967        x                               NaN   \n",
      "3968      NaN                               NaN   \n",
      "3969      NaN                               NaN   \n",
      "3970      NaN                               NaN   \n",
      "3971      NaN                               NaN   \n",
      "\n",
      "     đồ ăn nhật bản, nhà hàng nhật bản nhà hàng pizza nhà hàng chay trà sữa  \\\n",
      "0                                  NaN        x   NaN           NaN     NaN   \n",
      "1                                  NaN        x   NaN           NaN     NaN   \n",
      "2                                  NaN        x   NaN           NaN     NaN   \n",
      "3                                  NaN        x   NaN           NaN     NaN   \n",
      "4                                  NaN      NaN   NaN           NaN     NaN   \n",
      "...                                ...      ...   ...           ...     ...   \n",
      "3967                               NaN        x   NaN           NaN     NaN   \n",
      "3968                               NaN        x   NaN           NaN     NaN   \n",
      "3969                               NaN      NaN   NaN           NaN     NaN   \n",
      "3970                               NaN      NaN   NaN           NaN     NaN   \n",
      "3971                               NaN      NaN   NaN           NaN     NaN   \n",
      "\n",
      "     cafe bánh ngọt, bánh sinh nhật price_range_dif  \n",
      "0     NaN                       NaN          100000  \n",
      "1     NaN                       NaN           30000  \n",
      "2     NaN                       NaN           36000  \n",
      "3     NaN                       NaN          100000  \n",
      "4     NaN                       NaN           24000  \n",
      "...   ...                       ...             ...  \n",
      "3967  NaN                       NaN           49000  \n",
      "3968  NaN                       NaN          120000  \n",
      "3969    x                       NaN           15000  \n",
      "3970    x                       NaN           15000  \n",
      "3971  NaN                       NaN           30000  \n",
      "\n",
      "[3972 rows x 23 columns]\n"
     ]
    }
   ],
   "source": [
    "df['price_range_dif']=df[\"endrange\"]-df[\"startrange\"]\n",
    "print(df)\n",
    "sr3 = group.apply(lambda x: x['price_range_dif'].unique())"
   ],
   "metadata": {
    "collapsed": false,
    "pycharm": {
     "name": "#%%\n"
    }
   }
  },
  {
   "cell_type": "code",
   "execution_count": 78,
   "outputs": [
    {
     "name": "stdout",
     "output_type": "stream",
     "text": [
      "        location                                          range_dif\n",
      "0        ba đình  [120000, 100000, 295000, 250000, 55000, 30000,...\n",
      "1    bắc từ liêm  [10000, 150000, 6000, 35000, 450000, 170000, 1...\n",
      "2       cầu giấy  [30000, 40000, 300000, 100000, 115000, 200000,...\n",
      "3   hai bà trưng  [170000, 50000, 100000, 160000, 10000, 15000, ...\n",
      "4      hoàn kiếm  [30000, 36000, 100000, 24000, 150000, 40000, 1...\n",
      "5      hoàng mai  [25000, 30000, 58000, 15000, 20000, 150000, 13...\n",
      "6        hà đông  [25000, 70000, 35000, 30000, 75000, 200000, 50...\n",
      "7      long biên  [100000, 15000, 150000, 250000, 500000, 180000...\n",
      "8    nam từ liêm  [50000, 27000, 18000, 30000, 100000, 200000, 7...\n",
      "9     thanh xuân  [270000, 35000, 18000, 25000, 50000, 40000, 20...\n",
      "10        tây hồ  [88000, 30000, 70000, 107000, 35000, 300000, 1...\n",
      "11       đống đa  [60000, 20000, 65000, 50000, 25000, 15000, 300...\n"
     ]
    }
   ],
   "source": [
    "location_list2=[]\n",
    "price_dif_list=[]\n",
    "for index, val in sr3.iteritems():\n",
    "    location_list2.append(index.replace(\"quận\",\"\").strip())\n",
    "    price_dif_list.append(val)\n",
    "\n",
    "dfrangedif = pd.DataFrame({'location':location_list2, 'range_dif': price_dif_list})\n",
    "print(dfrangedif)"
   ],
   "metadata": {
    "collapsed": false,
    "pycharm": {
     "name": "#%%\n"
    }
   }
  },
  {
   "cell_type": "code",
   "execution_count": 79,
   "outputs": [
    {
     "name": "stdout",
     "output_type": "stream",
     "text": [
      "        location                                             rating  \\\n",
      "0        ba đình  [8.0, 7.6, 7.2, 6.0, 5.9, 7.4, 6.6, 7.1, 9.3, ...   \n",
      "1    bắc từ liêm  [7.1, 7.0, 9.8, 5.2, 8.9, 5.7, 9.9, 7.2, 8.0, ...   \n",
      "2       cầu giấy  [8.2, 6.5, 6.3, 7.0, 6.8, 7.6, 7.4, 8.0, 7.1, ...   \n",
      "3   hai bà trưng  [6.8, 8.0, 7.6, 7.4, 7.5, 6.9, 6.0, 7.7, 7.1, ...   \n",
      "4      hoàn kiếm  [6.8, 7.4, 7.8, 6.7, 7.0, 7.2, 7.5, 6.1, 7.9, ...   \n",
      "5      hoàng mai  [6.8, 7.1, 4.3, 9.9, 6.6, 7.3, 7.2, 8.0, 7.7, ...   \n",
      "6        hà đông  [7.1, 6.9, 7.6, 8.1, 6.0, 7.5, 5.8, 9.8, 8.0, ...   \n",
      "7      long biên  [7.8, 7.1, 8.0, 8.4, 7.0, 7.4, 8.6, 4.7, 9.7, ...   \n",
      "8    nam từ liêm  [8.0, 7.7, 1.8, 7.2, 9.6, 7.5, 8.3, 6.9, 9.3, ...   \n",
      "9     thanh xuân  [8.1, 4.1, 6.8, 7.7, 6.6, 7.6, 7.1, 7.2, 6.3, ...   \n",
      "10        tây hồ  [7.4, 7.1, 7.7, 7.8, 9.0, 7.3, 4.6, 7.0, 7.2, ...   \n",
      "11       đống đa  [8.0, 7.1, 7.5, 7.0, 1.0, 6.8, 6.9, 6.6, 7.6, ...   \n",
      "\n",
      "    rating variance  \n",
      "0          3.346321  \n",
      "1          1.488745  \n",
      "2          4.257243  \n",
      "3          4.761538  \n",
      "4          2.899694  \n",
      "5          3.517147  \n",
      "6          3.186131  \n",
      "7          2.994127  \n",
      "8          4.007382  \n",
      "9          3.252319  \n",
      "10         1.462576  \n",
      "11         4.226536  \n"
     ]
    }
   ],
   "source": [
    "dfrangedif['pricing difference variance']=dfrangedif[\"range_dif\"].map(variance)\n",
    "\n",
    "print(dfrating)"
   ],
   "metadata": {
    "collapsed": false,
    "pycharm": {
     "name": "#%%\n"
    }
   }
  },
  {
   "cell_type": "code",
   "execution_count": 80,
   "outputs": [
    {
     "data": {
      "text/plain": "<Figure size 1440x720 with 1 Axes>",
      "image/png": "[encoded data removed]"
     },
     "metadata": {
      "needs_background": "light"
     },
     "output_type": "display_data"
    }
   ],
   "source": [
    "bx = dfrangedif.sort_values(by=\"pricing difference variance\",ascending=True).plot.bar(x='location', y='pricing difference variance', rot=0,figsize=(20, 10))\n",
    "bx.figure.savefig(\"pricing_difference_variance.png\")"
   ],
   "metadata": {
    "collapsed": false,
    "pycharm": {
     "name": "#%%\n"
    }
   }
  }
 ],
 "metadata": {
  "kernelspec": {
   "display_name": "Python 3",
   "language": "python",
   "name": "python3"
  },
  "language_info": {
   "codemirror_mode": {
    "name": "ipython",
    "version": 2
   },
   "file_extension": ".py",
   "mimetype": "text/x-python",
   "name": "python",
   "nbconvert_exporter": "python",
   "pygments_lexer": "ipython2",
   "version": "2.7.6"
  }
 },
 "nbformat": 4,
 "nbformat_minor": 0
}
