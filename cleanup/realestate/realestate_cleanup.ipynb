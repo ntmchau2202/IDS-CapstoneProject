%pip install seaborn
import csv
import pandas as pd
import matplotlib.pyplot as plt
import seaborn as sns
import numpy as np
import math 

# Get delimiter of the CSV file
# This is to prevent the case fields in database are separated by something not commas
def get_delimiter_of_csv(path_to_file):
    with open(path_to_file, 'r') as data:
        delim = csv.Sniffer().sniff(data.readline())
        return delim.delimiter
    
# delimiter = get_delimiter_of_csv("./realestate.csv")
# raw_data = pd.read_csv("./realestate.csv", sep=delimiter)

pd.options.display.float_format = '{:,.2f}'.format

delimiter = get_delimiter_of_csv("./realestate_1.csv")
raw_data_1 = pd.read_csv("./realestate_1.csv", sep=delimiter)
data_no_na = raw_data_1.dropna()

delimiter = get_delimiter_of_csv("./realestate_2.csv")
raw_data_2 = pd.read_csv("./realestate_2.csv", sep=delimiter)
data_no_na = data_no_na.append(raw_data_2.dropna())

data_no_na['location'].value_counts().plot(kind='barh')

district_groups = data_no_na.groupby(by='location')
district_counts = district_groups.size()
print(district_counts)
district_max_vals = district_groups['price'].max()
district_min_vals = district_groups['price'].min()
# print(district_counts)
# print(district_min_vals)
fig = plt.subplots()
index = np.arange(len(district_groups))
bar_width = 0.35
max_bars = plt.barh(index, district_max_vals, bar_width, color='b', label='Maximum price')
min_bars = plt.barh(index + bar_width, district_min_vals, bar_width, color='g', label='Minimum price')
plt.ylabel('District')
plt.yticks(index + bar_width, district_groups['location'].unique())
plt.xlabel('Value (VND)')
plt.xticks(np.arange(0, 500000000, step=500000))
plt.legend()
plt.show()
